{
 "cells": [
  {
   "cell_type": "markdown",
   "id": "3f7a4bb5",
   "metadata": {},
   "source": [
    "## Advance operation with business examples"
   ]
  },
  {
   "cell_type": "code",
   "execution_count": 2,
   "id": "140a0d04",
   "metadata": {},
   "outputs": [],
   "source": [
    "import numpy as np\n",
    "import matplotlib.pyplot as plt"
   ]
  },
  {
   "cell_type": "markdown",
   "id": "1a175bd9",
   "metadata": {},
   "source": []
  },
  {
   "cell_type": "code",
   "execution_count": 29,
   "id": "1514d47f",
   "metadata": {},
   "outputs": [
    {
     "name": "stdout",
     "output_type": "stream",
     "text": [
      "==== Zomato sales analysis ====\n",
      "\n",
      " Sales data shape (10, 5)\n",
      "\n",
      " Sample data from 1st 3 restautant [[   101 120000 130500 145000  10300]\n",
      " [   102  98000 102300 110000 115000]\n",
      " [   103  75000  80000  85000  90000]]\n"
     ]
    }
   ],
   "source": [
    "### Data structureL [restaurant_id,2021,2022,2023,2024]\n",
    "sales_data=np.array([\n",
    "    [101, 120000, 130500, 145000, 10300],\n",
    "    [102, 98000,  102300, 110000, 115000],\n",
    "    [103, 75000,  80000,  85000,  90000],\n",
    "    [104, 200000, 210000, 220000, 230000],\n",
    "    [105, 67000,  72000,  76000,  80000],\n",
    "    [106, 153000, 158000, 160000, 165000],\n",
    "    [107, 89000,  95000,  99000,  104000],\n",
    "    [108, 125000, 130000, 135000, 140000],\n",
    "    [109, 111000, 115000, 118000, 120000],\n",
    "    [110, 143000, 146000, 149000, 155000],\n",
    "])\n",
    "\n",
    "print(\"==== Zomato sales analysis ====\")\n",
    "print(\"\\n Sales data shape\",sales_data.shape)\n",
    "print(\"\\n Sample data from 1st 3 restautant\",sales_data[:3])"
   ]
  },
  {
   "cell_type": "code",
   "execution_count": 55,
   "id": "37b81ca1",
   "metadata": {},
   "outputs": [
    {
     "name": "stdout",
     "output_type": "stream",
     "text": [
      "total sales per year [   1055 1181000 1238800 1297000 1209300]\n",
      "[1181000 1238800 1297000 1209300]\n",
      "[ 10300  98000  75000 200000  67000 153000  89000 125000 111000 143000]\n",
      "[200000 210000 220000 230000]\n",
      "[101450. 106325.  82500. 215000.  73750. 159000.  96750. 132500. 116000.\n",
      " 148250.]\n"
     ]
    }
   ],
   "source": [
    "# total sales per year\n",
    "print(\"total sales per year\",np.sum(sales_data,axis=0))\n",
    "yearly_total=np.sum(sales_data[:,1:],axis=0)\n",
    "print(yearly_total)\n",
    "\n",
    "# Minimun sales per restaurant\n",
    "min_sales=np.min(sales_data[:,1:],axis=1)\n",
    "print(min_sales)\n",
    "\n",
    "# Maximum sales per year\n",
    "max_sales=np.max(sales_data[:,1:],axis=0)\n",
    "print(max_sales)\n",
    "\n",
    "# Average sales per restaurant\n",
    "average_sales=np.mean(sales_data[:,1:],axis=1)\n",
    "print(average_sales)"
   ]
  },
  {
   "cell_type": "code",
   "execution_count": 56,
   "id": "d816726d",
   "metadata": {},
   "outputs": [
    {
     "name": "stdout",
     "output_type": "stream",
     "text": [
      "[[120000 250500 395500 405800]\n",
      " [ 98000 200300 310300 425300]\n",
      " [ 75000 155000 240000 330000]\n",
      " [200000 410000 630000 860000]\n",
      " [ 67000 139000 215000 295000]\n",
      " [153000 311000 471000 636000]\n",
      " [ 89000 184000 283000 387000]\n",
      " [125000 255000 390000 530000]\n",
      " [111000 226000 344000 464000]\n",
      " [143000 289000 438000 593000]]\n"
     ]
    },
    {
     "data": {
      "image/png": "[encoded data removed]",
      "text/plain": [
       "<Figure size 500x300 with 1 Axes>"
      ]
     },
     "metadata": {},
     "output_type": "display_data"
    }
   ],
   "source": [
    "cumelative_sum=np.cumsum(sales_data[:,1:],axis=1)\n",
    "print(cumelative_sum)\n",
    "\n",
    "plt.figure(figsize=(5,3))\n",
    "plt.plot(np.mean(cumelative_sum,axis=0))\n",
    "plt.title(\"Average cumalative sales across all restaurant\")\n",
    "plt.xlabel(\"Years\")\n",
    "plt.ylabel(\"Sales\")\n",
    "plt.grid(True)\n",
    "plt.show()"
   ]
  },
  {
   "cell_type": "code",
   "execution_count": 57,
   "id": "be94011b",
   "metadata": {},
   "outputs": [
    {
     "name": "stdout",
     "output_type": "stream",
     "text": [
      "Vector addition:  [ 7  9 11 13 15]\n",
      "Vector multiplication:  [ 6 14 24 36 50]\n",
      "Vector Dot product:  130\n",
      "angle:  0.26554161733900966\n"
     ]
    }
   ],
   "source": [
    "vector1=np.array([1,2,3,4,5])\n",
    "vector2=np.array([6,7,8,9,10])\n",
    "\n",
    "print(\"Vector addition: \",vector1+vector2)\n",
    "print(\"Vector multiplication: \",vector1*vector2)\n",
    "print(\"Vector Dot product: \",np.dot(vector1,vector2))\n",
    "print(\"angle: \",np.arccos(np.dot(vector1,vector2)/(np.linalg.norm(vector1)*np.linalg.norm(vector2))))"
   ]
  },
  {
   "cell_type": "code",
   "execution_count": 58,
   "id": "77b6292a",
   "metadata": {},
   "outputs": [
    {
     "name": "stdout",
     "output_type": "stream",
     "text": [
      "Vectorized Upper ['BIRYANI' 'CHINESE' 'PIZZA' 'BURGER' 'CAFE']\n"
     ]
    }
   ],
   "source": [
    "restaurant_types=np.array(['biryani','chinese','pizza','burger','cafe'])\n",
    "vectorized_upper=np.vectorize(str.upper)\n",
    "print(\"Vectorized Upper\",vectorized_upper(restaurant_types))"
   ]
  },
  {
   "cell_type": "code",
   "execution_count": 61,
   "id": "15321d34",
   "metadata": {},
   "outputs": [
    {
     "name": "stdout",
     "output_type": "stream",
     "text": [
      "[[10000.         10875.         12083.33333333   858.33333333]\n",
      " [ 8166.66666667  8525.          9166.66666667  9583.33333333]\n",
      " [ 6250.          6666.66666667  7083.33333333  7500.        ]\n",
      " [16666.66666667 17500.         18333.33333333 19166.66666667]\n",
      " [ 5583.33333333  6000.          6333.33333333  6666.66666667]\n",
      " [12750.         13166.66666667 13333.33333333 13750.        ]\n",
      " [ 7416.66666667  7916.66666667  8250.          8666.66666667]\n",
      " [10416.66666667 10833.33333333 11250.         11666.66666667]\n",
      " [ 9250.          9583.33333333  9833.33333333 10000.        ]\n",
      " [11916.66666667 12166.66666667 12416.66666667 12916.66666667]]\n"
     ]
    }
   ],
   "source": [
    "monthly_avg=sales_data[:,1:]/12\n",
    "\n",
    "print(monthly_avg)"
   ]
  }
 ],
 "metadata": {
  "kernelspec": {
   "display_name": ".venv",
   "language": "python",
   "name": "python3"
  },
  "language_info": {
   "codemirror_mode": {
    "name": "ipython",
    "version": 3
   },
   "file_extension": ".py",
   "mimetype": "text/x-python",
   "name": "python",
   "nbconvert_exporter": "python",
   "pygments_lexer": "ipython3",
   "version": "3.12.3"
  }
 },
 "nbformat": 4,
 "nbformat_minor": 5
}
