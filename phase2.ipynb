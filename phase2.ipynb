{
 "cells": [
  {
   "cell_type": "markdown",
   "id": "6c290ef7",
   "metadata": {},
   "source": [
    "## Numpy Array operations"
   ]
  },
  {
   "cell_type": "code",
   "execution_count": 2,
   "id": "ec01a1ff",
   "metadata": {},
   "outputs": [],
   "source": [
    "import numpy as np"
   ]
  },
  {
   "cell_type": "code",
   "execution_count": 7,
   "id": "0bc5f5a6",
   "metadata": {},
   "outputs": [
    {
     "name": "stdout",
     "output_type": "stream",
     "text": [
      "Basic Slicing [2 3 4]\n",
      "With Step [1 3 5 7]\n",
      "Negative indexing 8\n"
     ]
    }
   ],
   "source": [
    "array=np.arange(10)\n",
    "print(\"Basic Slicing\",array[2:5])\n",
    "print(\"With Step\",array[1:8:2])\n",
    "print(\"Negative indexing\",array[-2])"
   ]
  },
  {
   "cell_type": "code",
   "execution_count": 10,
   "id": "0a3a7d55",
   "metadata": {},
   "outputs": [
    {
     "name": "stdout",
     "output_type": "stream",
     "text": [
      "Specific element 9\n",
      "Entire row [7 8 9]\n",
      "Entire column [2 8 5]\n"
     ]
    }
   ],
   "source": [
    "array_2D=np.array([[1,2,3],\n",
    "                   [7,8,9],\n",
    "                   [4,5,6]])\n",
    "print(\"Specific element\",array_2D[1,2])\n",
    "print(\"Entire row\",array_2D[1])\n",
    "print(\"Entire column\",array_2D[:,1])\n"
   ]
  },
  {
   "cell_type": "markdown",
   "id": "b7ea2792",
   "metadata": {},
   "source": [
    "## Sorting"
   ]
  },
  {
   "cell_type": "code",
   "execution_count": 15,
   "id": "90e9c5c7",
   "metadata": {},
   "outputs": [
    {
     "name": "stdout",
     "output_type": "stream",
     "text": [
      "Sorted array [ 0  1  3  7  8 22 23 33]\n",
      "Sorted 2D array by column [[1 1]\n",
      " [2 2]\n",
      " [3 3]]\n"
     ]
    }
   ],
   "source": [
    "unsorted=np.array([3,7,8,1,0,33,22,23])\n",
    "print(\"Sorted array\",np.sort(unsorted))\n",
    "\n",
    "array_2D_unsorted=np.array([[3,1],[1,2],[2,3]])\n",
    "print(\"Sorted 2D array by column\",np.sort(array_2D_unsorted,axis=0))"
   ]
  },
  {
   "cell_type": "markdown",
   "id": "c19ebc96",
   "metadata": {},
   "source": [
    "## Filter"
   ]
  },
  {
   "cell_type": "code",
   "execution_count": 16,
   "id": "20945679",
   "metadata": {},
   "outputs": [
    {
     "name": "stdout",
     "output_type": "stream",
     "text": [
      "[ 2  4  6  8 10]\n"
     ]
    }
   ],
   "source": [
    "numbers=np.array([1,2,3,4,5,6,7,8,9,10])\n",
    "even_number=numbers[numbers%2==0]\n",
    "print(even_number)"
   ]
  },
  {
   "cell_type": "markdown",
   "id": "2632ad48",
   "metadata": {},
   "source": [
    "# Filter with mask"
   ]
  },
  {
   "cell_type": "code",
   "execution_count": 20,
   "id": "1734c6b5",
   "metadata": {},
   "outputs": [
    {
     "name": "stdout",
     "output_type": "stream",
     "text": [
      "numbers greater than 5  [ 6  7  8  9 10]\n"
     ]
    }
   ],
   "source": [
    "mask=numbers > 5\n",
    "print(\"numbers greater than 5 \",numbers[mask])"
   ]
  },
  {
   "cell_type": "markdown",
   "id": "0eca50bb",
   "metadata": {},
   "source": [
    "## Fancy indexing vs np.where()"
   ]
  },
  {
   "cell_type": "code",
   "execution_count": 24,
   "id": "8f084817",
   "metadata": {},
   "outputs": [
    {
     "name": "stdout",
     "output_type": "stream",
     "text": [
      "[1 3 6]\n",
      "NP where [ 7  8  9 10]\n"
     ]
    }
   ],
   "source": [
    "indices=[0,2,5]\n",
    "print(numbers[indices])\n",
    "\n",
    "where_result=np.where(numbers>6)\n",
    "print(\"NP where\",numbers[where_result])"
   ]
  },
  {
   "cell_type": "code",
   "execution_count": 34,
   "id": "0f4a6c42",
   "metadata": {},
   "outputs": [
    {
     "name": "stdout",
     "output_type": "stream",
     "text": [
      "[ 1  2  3  4  5 24 28 32 36 40]\n"
     ]
    }
   ],
   "source": [
    "condition_array=np.where(numbers>5,numbers*4,numbers)\n",
    "print(condition_array)\n"
   ]
  },
  {
   "cell_type": "markdown",
   "id": "0a9ea55c",
   "metadata": {},
   "source": [
    "### Adding and removing data"
   ]
  },
  {
   "cell_type": "code",
   "execution_count": 39,
   "id": "4963fe80",
   "metadata": {},
   "outputs": [
    {
     "name": "stdout",
     "output_type": "stream",
     "text": [
      "[ 2  3  4  5  6  8  8  9 22 33 55 88]\n"
     ]
    }
   ],
   "source": [
    "arr1=np.array([2,3,4,5,6,8])\n",
    "arr2=np.array([8,9,22,33,55,88])\n",
    "\n",
    "combinedArray=np.concatenate((arr1,arr2))\n",
    "print(combinedArray)"
   ]
  },
  {
   "cell_type": "markdown",
   "id": "20412965",
   "metadata": {},
   "source": [
    "### Array compatibility"
   ]
  },
  {
   "cell_type": "code",
   "execution_count": 4,
   "id": "33d1cbac",
   "metadata": {},
   "outputs": [
    {
     "name": "stdout",
     "output_type": "stream",
     "text": [
      "Compatibility True\n"
     ]
    }
   ],
   "source": [
    "a=np.array([2,3,4,5,6,8])\n",
    "b=np.array([8,9,22,33,55])\n",
    "c=np.array([1,2,3,4,5,6])\n",
    "\n",
    "print(\"Compatibility\",a.shape==c.shape)"
   ]
  },
  {
   "cell_type": "code",
   "execution_count": 9,
   "id": "c03af3e3",
   "metadata": {},
   "outputs": [
    {
     "name": "stdout",
     "output_type": "stream",
     "text": [
      "[[1 2]\n",
      " [3 4]]\n",
      "with new row:  [[1 2]\n",
      " [3 4]\n",
      " [5 6]]\n",
      "[[1 2]\n",
      " [3 4]]\n",
      "with new col:  [[1 2 7]\n",
      " [3 4 8]]\n"
     ]
    }
   ],
   "source": [
    "original=np.array([[1,2],[3,4]])\n",
    "new_row=np.array([[5,6]])\n",
    "\n",
    "with_new_row=np.vstack((original,new_row))  ### new adds row \n",
    "print(original)\n",
    "print(\"with new row: \",with_new_row)\n",
    "\n",
    "new_col=np.array([[7],[8]])\n",
    "with_new_col=np.hstack((original,new_col))\n",
    "print(original)\n",
    "print(\"with new col: \",with_new_col)"
   ]
  },
  {
   "cell_type": "code",
   "execution_count": 11,
   "id": "b7e293fa",
   "metadata": {},
   "outputs": [
    {
     "name": "stdout",
     "output_type": "stream",
     "text": [
      "Array after deletion:  [1 2 4 5 8]\n"
     ]
    }
   ],
   "source": [
    "arr=np.array([1,2,3,4,5,8])\n",
    "deleted=np.delete(arr,2)\n",
    "\n",
    "print(\"Array after deletion: \",deleted)"
   ]
  }
 ],
 "metadata": {
  "kernelspec": {
   "display_name": ".venv",
   "language": "python",
   "name": "python3"
  },
  "language_info": {
   "codemirror_mode": {
    "name": "ipython",
    "version": 3
   },
   "file_extension": ".py",
   "mimetype": "text/x-python",
   "name": "python",
   "nbconvert_exporter": "python",
   "pygments_lexer": "ipython3",
   "version": "3.12.3"
  }
 },
 "nbformat": 4,
 "nbformat_minor": 5
}
