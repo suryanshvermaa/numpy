{
 "cells": [
  {
   "cell_type": "markdown",
   "id": "c5797e1c",
   "metadata": {},
   "source": [
    "## Numpy array and basics"
   ]
  },
  {
   "cell_type": "code",
   "execution_count": 3,
   "id": "bb4c65ab",
   "metadata": {},
   "outputs": [],
   "source": [
    "import numpy as np"
   ]
  },
  {
   "cell_type": "markdown",
   "id": "cdf7f35e",
   "metadata": {},
   "source": [
    "### creating array from list"
   ]
  },
  {
   "cell_type": "code",
   "execution_count": 6,
   "id": "08e86a9b",
   "metadata": {},
   "outputs": [
    {
     "name": "stdout",
     "output_type": "stream",
     "text": [
      "1D array [1 2 3 4 5]\n",
      "2D array [[1 2 3]\n",
      " [5 6 7]]\n"
     ]
    }
   ],
   "source": [
    "arr_1D= np.array([1,2,3,4,5])\n",
    "print(\"1D array\",arr_1D)\n",
    "\n",
    "arr_2D=np.array([[1,2,3],[5,6,7]])\n",
    "print(\"2D array\",arr_2D)"
   ]
  },
  {
   "cell_type": "markdown",
   "id": "743cea0a",
   "metadata": {},
   "source": [
    "## List vs numpy"
   ]
  },
  {
   "cell_type": "code",
   "execution_count": 8,
   "id": "e65614bf",
   "metadata": {},
   "outputs": [
    {
     "name": "stdout",
     "output_type": "stream",
     "text": [
      "list multiplication [1, 2, 3, 1, 2, 3, 1, 2, 3]\n",
      "array multiplication [3 6 9]\n"
     ]
    }
   ],
   "source": [
    "py_list=[1,2,3]\n",
    "print(\"list multiplication\",py_list*3)\n",
    "\n",
    "np_array=np.array([1,2,3]) # element wise multiplication\n",
    "print(\"array multiplication\",np_array*3)"
   ]
  },
  {
   "cell_type": "code",
   "execution_count": 9,
   "id": "9487ca52",
   "metadata": {},
   "outputs": [
    {
     "name": "stdout",
     "output_type": "stream",
     "text": [
      "\n",
      " List operation time:  0.10709857940673828\n",
      "\n",
      " Numpy operation time:  0.009641647338867188\n"
     ]
    }
   ],
   "source": [
    "import time\n",
    "start =time.time()\n",
    "py_list=[i*2 for i in range(1000000)]\n",
    "print(\"\\n List operation time: \",time.time()-start)\n",
    "\n",
    "start =time.time()\n",
    "np_array=np.arange(1000000)*2\n",
    "print(\"\\n Numpy operation time: \",time.time()-start)"
   ]
  },
  {
   "cell_type": "markdown",
   "id": "64f70bc8",
   "metadata": {},
   "source": [
    "## creating array from scratch"
   ]
  },
  {
   "cell_type": "code",
   "execution_count": 11,
   "id": "26f197bc",
   "metadata": {},
   "outputs": [
    {
     "name": "stdout",
     "output_type": "stream",
     "text": [
      "zeros array:\n",
      ", [[0. 0. 0. 0.]\n",
      " [0. 0. 0. 0.]\n",
      " [0. 0. 0. 0.]]\n",
      "zeros array:\n",
      ", [[1. 1. 1. 1.]\n",
      " [1. 1. 1. 1.]\n",
      " [1. 1. 1. 1.]]\n",
      "full array:\n",
      ", [[7 7]\n",
      " [7 7]]\n"
     ]
    }
   ],
   "source": [
    "zeros=np.zeros((3,4))\n",
    "print(\"zeros array:\\n,\",zeros)\n",
    "\n",
    "ones=np.ones((3,4))\n",
    "print(\"zeros array:\\n,\",ones)\n",
    "\n",
    "full=np.full((2,2),7)\n",
    "print(\"full array:\\n,\",full)\n"
   ]
  },
  {
   "cell_type": "code",
   "execution_count": 13,
   "id": "22b55116",
   "metadata": {},
   "outputs": [
    {
     "data": {
      "text/plain": [
       "array([[0.13761525, 0.36266168, 0.21403498],\n",
       "       [0.72442294, 0.41068402, 0.99709492]])"
      ]
     },
     "execution_count": 13,
     "metadata": {},
     "output_type": "execute_result"
    }
   ],
   "source": [
    "random=np.random.random((2,3))\n",
    "random"
   ]
  },
  {
   "cell_type": "code",
   "execution_count": 15,
   "id": "e1fbe5e2",
   "metadata": {},
   "outputs": [
    {
     "data": {
      "text/plain": [
       "array([0, 2, 4, 6, 8])"
      ]
     },
     "execution_count": 15,
     "metadata": {},
     "output_type": "execute_result"
    }
   ],
   "source": [
    "sequence=np.arange(0,10,2)\n",
    "sequence"
   ]
  },
  {
   "cell_type": "markdown",
   "id": "96a5c0ed",
   "metadata": {},
   "source": [
    "## Vector, Matrix and Tensor"
   ]
  },
  {
   "cell_type": "code",
   "execution_count": 17,
   "id": "b98aff19",
   "metadata": {},
   "outputs": [
    {
     "name": "stdout",
     "output_type": "stream",
     "text": [
      "vector:  [1 2 3]\n",
      "vector:  [[1 2 3]\n",
      " [4 5 6]\n",
      " [7 8 9]]\n",
      "tensor:  [[[1 2 3]\n",
      "  [4 5 6]]\n",
      "\n",
      " [[3 4 5]\n",
      "  [6 7 8]]]\n"
     ]
    }
   ],
   "source": [
    "vector=np.array([1,2,3])\n",
    "print(\"vector: \",vector)\n",
    "\n",
    "matrix=np.array([[1,2,3],\n",
    "                [4,5,6],\n",
    "                [7,8,9]])\n",
    "print(\"vector: \",matrix)\n",
    "\n",
    "tensor=np.array([[[1,2,3],[4,5,6]]\n",
    "                 ,[[3,4,5],[6,7,8]]])\n",
    "print(\"tensor: \",tensor)"
   ]
  },
  {
   "cell_type": "markdown",
   "id": "a9022164",
   "metadata": {},
   "source": [
    "### Array properties"
   ]
  },
  {
   "cell_type": "code",
   "execution_count": 19,
   "id": "0d1c23cc",
   "metadata": {},
   "outputs": [
    {
     "name": "stdout",
     "output_type": "stream",
     "text": [
      "Shape  (2, 3)\n",
      "Dimension  6\n",
      "Dtype  int64\n"
     ]
    }
   ],
   "source": [
    "arr= np.array([[1,2,3],\n",
    "               [4,5,6]])\n",
    "print(\"Shape \",arr.shape)\n",
    "print(\"Dimension \",arr.size)\n",
    "print(\"Dtype \",arr.dtype)"
   ]
  },
  {
   "cell_type": "markdown",
   "id": "1700142a",
   "metadata": {},
   "source": [
    "### Array reshaping"
   ]
  },
  {
   "cell_type": "code",
   "execution_count": 24,
   "id": "f9fcca6a",
   "metadata": {},
   "outputs": [
    {
     "name": "stdout",
     "output_type": "stream",
     "text": [
      "Original array:  [ 0  1  2  3  4  5  6  7  8  9 10 11]\n",
      "Reshaped array:  [[ 0  1  2  3]\n",
      " [ 4  5  6  7]\n",
      " [ 8  9 10 11]]\n",
      "flattened array:  [ 0  1  2  3  4  5  6  7  8  9 10 11]\n",
      "reveled array:  [ 0  1  2  3  4  5  6  7  8  9 10 11]\n",
      "Transposed array:  [[ 0  4  8]\n",
      " [ 1  5  9]\n",
      " [ 2  6 10]\n",
      " [ 3  7 11]]\n"
     ]
    }
   ],
   "source": [
    "arr=np.arange(12)\n",
    "print(\"Original array: \",arr)\n",
    "\n",
    "reshaped=arr.reshape((3,4))\n",
    "print(\"Reshaped array: \",reshaped)\n",
    "\n",
    "flattened=reshaped.flatten()\n",
    "print(\"flattened array: \",flattened)\n",
    "\n",
    "# revel (returns view, instead of copy)\n",
    "reveled =reshaped.ravel()\n",
    "print(\"reveled array: \",reveled)\n",
    "\n",
    "# Transpose\n",
    "transpose=reshaped.T\n",
    "print(\"Transposed array: \",transpose)"
   ]
  },
  {
   "cell_type": "code",
   "execution_count": null,
   "id": "e1475279",
   "metadata": {},
   "outputs": [],
   "source": []
  }
 ],
 "metadata": {
  "kernelspec": {
   "display_name": ".venv",
   "language": "python",
   "name": "python3"
  },
  "language_info": {
   "codemirror_mode": {
    "name": "ipython",
    "version": 3
   },
   "file_extension": ".py",
   "mimetype": "text/x-python",
   "name": "python",
   "nbconvert_exporter": "python",
   "pygments_lexer": "ipython3",
   "version": "3.12.3"
  }
 },
 "nbformat": 4,
 "nbformat_minor": 5
}
